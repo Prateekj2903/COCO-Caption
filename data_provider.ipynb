{
 "cells": [
  {
   "cell_type": "code",
   "execution_count": 13,
   "metadata": {},
   "outputs": [],
   "source": [
    "import datasets\n",
    "import config\n",
    "import random\n",
    "from math import ceil\n",
    "import numpy as np\n",
    "import os\n",
    "\n",
    "import preprocessors"
   ]
  },
  {
   "cell_type": "code",
   "execution_count": 14,
   "metadata": {},
   "outputs": [],
   "source": [
    "class DataProvider():\n",
    "    def __init__(self, best_caption=False, batch_size=None):\n",
    "        \n",
    "        self.active_config = config.Config()\n",
    "        self.best_caption = best_caption\n",
    "        self.batch_size = batch_size or self.active_config.batch_size\n",
    "        \n",
    "        self.dataset = datasets.COCODateset(best_caption)\n",
    "        self.image_preprocessor = preprocessors.ImagePreprocessor()\n",
    "        self.caption_preprocessor = preprocessors.CaptionPreprocessor()\n",
    "        \n",
    "        self.build()\n",
    "    \n",
    "    @property\n",
    "    def vocabulary(self):\n",
    "        return self.caption_preprocessor.vocabulary\n",
    "    \n",
    "    @property\n",
    "    def vocabulary_size(self):\n",
    "        return self.caption_preprocessor.vocabulary_size\n",
    "    \n",
    "    @property\n",
    "    def training_results_dir(self):\n",
    "        return self.dataset.training_results_dir\n",
    "    \n",
    "    @property\n",
    "    def training_images_dir(self):\n",
    "        return self.dataset.training_images_dir\n",
    "    \n",
    "    @property\n",
    "    def training_steps_per_epoch(self):\n",
    "        return ceil(self.dataset.training_set_size/self.batch_size)\n",
    "    \n",
    "    def training_set(self):\n",
    "        for batch in self.batch_generator(self.dataset.training_set):\n",
    "            yield batch\n",
    "        \n",
    "    def build(self):\n",
    "        training_all_captions = self.dataset.training_all_captions\n",
    "        self.caption_preprocessor.fit_captions(training_all_captions)\n",
    "        \n",
    "    def batch_generator(self, dataset):\n",
    "        curr_data_batch = []\n",
    "        while True:\n",
    "            idxs = np.random.randint(low=0, high=len(dataset), size=self.batch_size)\n",
    "            curr_data_batch = dataset[idxs]\n",
    "            yield self.preprocess_batch(curr_data_batch)\n",
    "    \n",
    "    def preprocess_batch(self, data_batch):\n",
    "        imgs_path = []\n",
    "        captions = []\n",
    "        for data in data_batch:\n",
    "            imgs_path.append(os.path.join(self.training_images_dir,data.filename))\n",
    "            captions.append(data.caption)\n",
    "        \n",
    "        img_batch = self.image_preprocessor.preprocess_images(imgs_path)\n",
    "        caption_batch = self.caption_preprocessor.encode_captions(captions, preprocess=True)\n",
    "        \n",
    "        captions_input, captions_output = caption_batch\n",
    "        X, y = [img_batch, captions_input], captions_output\n",
    "        \n",
    "        return X, y, data_batch"
   ]
  },
  {
   "cell_type": "code",
   "execution_count": null,
   "metadata": {},
   "outputs": [],
   "source": []
  },
  {
   "cell_type": "code",
   "execution_count": null,
   "metadata": {},
   "outputs": [],
   "source": []
  },
  {
   "cell_type": "code",
   "execution_count": null,
   "metadata": {},
   "outputs": [],
   "source": []
  },
  {
   "cell_type": "code",
   "execution_count": 22,
   "metadata": {},
   "outputs": [],
   "source": [
    "# data_provider = DataProvider()"
   ]
  },
  {
   "cell_type": "code",
   "execution_count": 23,
   "metadata": {},
   "outputs": [],
   "source": [
    "# batch = next(data_provider.training_set())\n",
    "# len(batch), batch[0][0].shape, batch[0][1].shape, batch[1].shape"
   ]
  },
  {
   "cell_type": "code",
   "execution_count": null,
   "metadata": {},
   "outputs": [],
   "source": []
  },
  {
   "cell_type": "code",
   "execution_count": 24,
   "metadata": {},
   "outputs": [],
   "source": [
    "# batch[0][1][0]"
   ]
  },
  {
   "cell_type": "code",
   "execution_count": 25,
   "metadata": {},
   "outputs": [],
   "source": [
    "# batch[1][0]"
   ]
  },
  {
   "cell_type": "code",
   "execution_count": 26,
   "metadata": {},
   "outputs": [],
   "source": [
    "# maxi = np.argmax(batch[1], axis=2)\n",
    "# maxi"
   ]
  },
  {
   "cell_type": "code",
   "execution_count": 27,
   "metadata": {},
   "outputs": [],
   "source": [
    "# t = data_provider.caption_preprocessor.tokenizer\n",
    "\n",
    "# index_word = t.index_word\n",
    "# sorted(index_word, key=index_word.get)\n",
    "\n",
    "# # t.word_index\n",
    "# index_word"
   ]
  },
  {
   "cell_type": "code",
   "execution_count": 28,
   "metadata": {},
   "outputs": [],
   "source": [
    "# for q in batch[0][1][0]:\n",
    "#     print(t.index_word[q+1], end=' ')\n",
    "# print()\n",
    "# for q in maxi[0]:\n",
    "#     print(t.index_word[q+1], end=' ')"
   ]
  },
  {
   "cell_type": "code",
   "execution_count": 29,
   "metadata": {},
   "outputs": [],
   "source": [
    "# b = batch[2][0]"
   ]
  },
  {
   "cell_type": "code",
   "execution_count": 30,
   "metadata": {},
   "outputs": [],
   "source": [
    "# t.index_word[27549]"
   ]
  },
  {
   "cell_type": "code",
   "execution_count": 31,
   "metadata": {},
   "outputs": [],
   "source": [
    "# b.caption, b.filename, b.image_id"
   ]
  },
  {
   "cell_type": "code",
   "execution_count": null,
   "metadata": {},
   "outputs": [],
   "source": []
  },
  {
   "cell_type": "code",
   "execution_count": null,
   "metadata": {},
   "outputs": [],
   "source": []
  },
  {
   "cell_type": "code",
   "execution_count": null,
   "metadata": {},
   "outputs": [],
   "source": []
  },
  {
   "cell_type": "code",
   "execution_count": null,
   "metadata": {},
   "outputs": [],
   "source": []
  },
  {
   "cell_type": "code",
   "execution_count": 32,
   "metadata": {},
   "outputs": [],
   "source": [
    "# tokenizer = Tokenizer()"
   ]
  },
  {
   "cell_type": "code",
   "execution_count": 33,
   "metadata": {},
   "outputs": [],
   "source": [
    "# tokenizer.sequences_to_matrix()"
   ]
  },
  {
   "cell_type": "code",
   "execution_count": 34,
   "metadata": {},
   "outputs": [],
   "source": [
    "# from keras.utils import to_categorical\n",
    "\n",
    "# docs = ['Well done a',\n",
    "# 'Good work a']\n",
    "# # 'Great effort a',\n",
    "# # 'nice work a',\n",
    "# # 'Excellent! v a']\n",
    "# # create the tokenizer\n",
    "# t = Tokenizer()\n",
    "# # fit the tokenizer on the documents\n",
    "# t.fit_on_texts(docs)\n",
    "# # summarize what was learned\n",
    "# # print(t.word_counts)\n",
    "# # print(t.document_count)\n",
    "# # print(t.word_index)\n",
    "# # print(t.word_docs)\n",
    "# # integer encode documents\n",
    "\n",
    "# print(t.texts_to_sequences(docs))\n",
    "\n",
    "# print(len(t.word_counts))\n",
    "# a = np.array(t.texts_to_sequences(docs))\n",
    "# # print(a)\n",
    "# a = np.expand_dims(a, -1)\n",
    "# print(a)\n",
    "# print()\n",
    "\n",
    "# b = to_categorical(a)\n",
    "# print(b)\n",
    "\n",
    "# # c = np.array([[3, 4, 1, 0, 0, 0], [5, 2, 1, 0, 0, 0], [6, 7, 1, 0, 0, 0], [8, 2, 1, 0, 0, 0], [9, 10, 1, 0, 0, 0]])\n",
    "\n",
    "# # c = np.expand_dims(c, -1)\n",
    "# # print(a.shape)\n",
    "# # print(a)\n",
    "# # b = t.sequences_to_matrix(a.tolist())\n",
    "# # print(b)\n",
    "# # print()\n",
    "# # print(b.shape)\n",
    "# # encoded_docs = t.texts_to_matrix(docs, mode='count')\n",
    "# # print(encoded_docs)"
   ]
  },
  {
   "cell_type": "code",
   "execution_count": 35,
   "metadata": {},
   "outputs": [],
   "source": [
    "# a = [1,2,3,4]\n",
    "# b = np.array([1,2,3,4])\n",
    "# print(a)\n",
    "# print(b)"
   ]
  },
  {
   "cell_type": "code",
   "execution_count": null,
   "metadata": {},
   "outputs": [],
   "source": []
  },
  {
   "cell_type": "code",
   "execution_count": 36,
   "metadata": {},
   "outputs": [],
   "source": [
    "# a = np.array([[1,2,3,4],[5,6,7,8,9]])\n",
    "# max(len(i) for i in a)"
   ]
  },
  {
   "cell_type": "code",
   "execution_count": 37,
   "metadata": {},
   "outputs": [],
   "source": [
    "# a=np.expand_dims(a, -1)\n",
    "# a.shape"
   ]
  },
  {
   "cell_type": "code",
   "execution_count": 38,
   "metadata": {},
   "outputs": [],
   "source": [
    "# a[:,:,1:]"
   ]
  },
  {
   "cell_type": "code",
   "execution_count": 39,
   "metadata": {},
   "outputs": [],
   "source": [
    "# seq = [[1,2,3,4,5,0,0]]\n"
   ]
  },
  {
   "cell_type": "code",
   "execution_count": 40,
   "metadata": {},
   "outputs": [],
   "source": [
    "# from math import ceil\n",
    "# ceil(1)"
   ]
  },
  {
   "cell_type": "code",
   "execution_count": null,
   "metadata": {},
   "outputs": [],
   "source": []
  }
 ],
 "metadata": {
  "kernelspec": {
   "display_name": "Python 3",
   "language": "python",
   "name": "python3"
  },
  "language_info": {
   "codemirror_mode": {
    "name": "ipython",
    "version": 3
   },
   "file_extension": ".py",
   "mimetype": "text/x-python",
   "name": "python",
   "nbconvert_exporter": "python",
   "pygments_lexer": "ipython3",
   "version": "3.6.5"
  }
 },
 "nbformat": 4,
 "nbformat_minor": 2
}
