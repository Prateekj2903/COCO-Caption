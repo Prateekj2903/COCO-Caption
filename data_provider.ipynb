{
 "cells": [
  {
   "cell_type": "code",
   "execution_count": 1,
   "metadata": {},
   "outputs": [],
   "source": [
    "from datasets import COCODateset\n",
    "from config import active_config\n",
    "import random\n",
    "import numpy as np"
   ]
  },
  {
   "cell_type": "code",
   "execution_count": 2,
   "metadata": {},
   "outputs": [
    {
     "name": "stderr",
     "output_type": "stream",
     "text": [
      "C:\\Users\\windo\\Anaconda3\\lib\\site-packages\\h5py\\__init__.py:36: FutureWarning: Conversion of the second argument of issubdtype from `float` to `np.floating` is deprecated. In future, it will be treated as `np.float64 == np.dtype(float).type`.\n",
      "  from ._conv import register_converters as _register_converters\n",
      "Using TensorFlow backend.\n"
     ]
    }
   ],
   "source": [
    "from keras.preprocessing.text import Tokenizer, text_to_word_sequence\n",
    "\n",
    "class CaptionPreprocessor():\n",
    "    EOS_TOKEN = 'xeosx'\n",
    "    \n",
    "    def __init__(self, clean_descriptions=None):\n",
    "        self.tokenizer = Tokenizer()\n",
    "        self.clean_descriptions = clean_descriptions or active_config.clean_descriptions\n",
    "        \n",
    "    def fit_captions(self, captions_list):\n",
    "        if self.clean_descriptions:\n",
    "            captions_list = self.description_cleaner(captions_list)\n",
    "        captions_list = self.eos_adder(captions_list)\n",
    "        self.tokenizer.fit_on_texts(captions_list)\n",
    "        \n",
    "    def description_cleaner(self, captions_list):\n",
    "        # TODO clean descriptions\n",
    "        return captions_list\n",
    "        \n",
    "    def eos_adder(self, captions_list):\n",
    "        return [caption + ' ' + self.EOS_TOKEN for caption in captions_list]"
   ]
  },
  {
   "cell_type": "code",
   "execution_count": 3,
   "metadata": {},
   "outputs": [],
   "source": [
    "class DataProvider():\n",
    "    def __init__(self, best_caption=False, batch_size=None):\n",
    "        \n",
    "        self.best_caption = best_caption\n",
    "        self.batch_size = batch_size or active_config.batch_size\n",
    "        \n",
    "        self.dataset = COCODateset(best_caption)\n",
    "        self.caption_preprocessor = CaptionPreprocessor()\n",
    "        \n",
    "        self.build()\n",
    "    \n",
    "    def training_set(self):\n",
    "        for batch in self.batch_generator(self.dataset.training_set):\n",
    "            yield batch\n",
    "        \n",
    "    def build(self):\n",
    "        training_all_captions = self.dataset.training_all_captions\n",
    "        self.caption_preprocessor.fit_captions(training_all_captions)\n",
    "        \n",
    "    def batch_generator(self, dataset):\n",
    "        curr_data_batch = []\n",
    "        while True:\n",
    "            idxs = np.random.randint(low=0, high=len(dataset), size=self.batch_size)\n",
    "            curr_data_batch = dataset[idxs]\n",
    "            yield self.preprocess_batch(curr_data_batch)\n",
    "    \n",
    "    def preprocess_batch(self, data_batch):\n",
    "        return data_batch"
   ]
  },
  {
   "cell_type": "code",
   "execution_count": 4,
   "metadata": {},
   "outputs": [
    {
     "name": "stdout",
     "output_type": "stream",
     "text": [
      "loading annotations into memory...\n",
      "Done (t=19.67s)\n",
      "creating index...\n",
      "index created!\n",
      "loading annotations into memory...\n",
      "Done (t=1.23s)\n",
      "creating index...\n",
      "index created!\n"
     ]
    }
   ],
   "source": [
    "data_provider = DataProvider()"
   ]
  },
  {
   "cell_type": "code",
   "execution_count": 17,
   "metadata": {},
   "outputs": [],
   "source": [
    "# t = data_provider.caption_preprocessor.tokenizer"
   ]
  },
  {
   "cell_type": "code",
   "execution_count": 18,
   "metadata": {},
   "outputs": [],
   "source": [
    "batch = next(data_provider.training_set())"
   ]
  },
  {
   "cell_type": "code",
   "execution_count": null,
   "metadata": {},
   "outputs": [],
   "source": []
  },
  {
   "cell_type": "code",
   "execution_count": null,
   "metadata": {},
   "outputs": [],
   "source": []
  },
  {
   "cell_type": "code",
   "execution_count": null,
   "metadata": {},
   "outputs": [],
   "source": []
  }
 ],
 "metadata": {
  "kernelspec": {
   "display_name": "Python 3",
   "language": "python",
   "name": "python3"
  },
  "language_info": {
   "codemirror_mode": {
    "name": "ipython",
    "version": 3
   },
   "file_extension": ".py",
   "mimetype": "text/x-python",
   "name": "python",
   "nbconvert_exporter": "python",
   "pygments_lexer": "ipython3",
   "version": "3.6.5"
  }
 },
 "nbformat": 4,
 "nbformat_minor": 2
}
