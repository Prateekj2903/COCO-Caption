{
 "cells": [
  {
   "cell_type": "code",
   "execution_count": 2,
   "metadata": {},
   "outputs": [],
   "source": [
    "from datasets import COCODateset\n",
    "from config import active_config"
   ]
  },
  {
   "cell_type": "code",
   "execution_count": null,
   "metadata": {},
   "outputs": [],
   "source": [
    "from keras.preprocessing.text import Tokenizer, text_to_word_sequence\n",
    "\n",
    "class CaptionPreprocessor():\n",
    "    def __init__(self, clean_descriptions=None):\n",
    "        self.tokenizer = Tokenizer()\n",
    "        self.clean_descriptions = clean_descriptions or active_config.clean_descriptions\n",
    "        \n",
    "    def fit_captions(captions_list):\n",
    "        if self.clean_descriptions:\n",
    "            captions_list = self.description_cleaner(captions_list)\n",
    "        captions_list = self.eos_adder(captions_list)\n",
    "        self.tokenizer.fit_on_texts(captions_list)\n",
    "        \n",
    "    def description_cleaner(self, captions_list):\n",
    "        # TODO clean descriptions\n",
    "        return captions_list\n",
    "        \n",
    "    def eos_adder(self, captions_list):\n",
    "        return [caption + ' ' + self.EOS_TOKEN for caption in captions_list]"
   ]
  },
  {
   "cell_type": "code",
   "execution_count": 8,
   "metadata": {},
   "outputs": [
    {
     "ename": "IndentationError",
     "evalue": "expected an indented block (<ipython-input-8-934841c5cb38>, line 12)",
     "output_type": "error",
     "traceback": [
      "\u001b[1;36m  File \u001b[1;32m\"<ipython-input-8-934841c5cb38>\"\u001b[1;36m, line \u001b[1;32m12\u001b[0m\n\u001b[1;33m    else:\u001b[0m\n\u001b[1;37m       ^\u001b[0m\n\u001b[1;31mIndentationError\u001b[0m\u001b[1;31m:\u001b[0m expected an indented block\n"
     ]
    }
   ],
   "source": [
    "class DataProvider():\n",
    "    def __init__(self, best_caption=False):\n",
    "        self.dataset = COCODateset(best_caption)\n",
    "        self.caption_preprocessor = CaptionPreprocessor()\n",
    "        self.best_caption = best_caption\n",
    "        self.build()\n",
    "    \n",
    "    def build(self):\n",
    "        training_set = dataset.training_set\n",
    "        if best_caption:\n",
    "            #TODO map all captions corresponding to all images in a list\n",
    "        else:\n",
    "            #TODO map all captions in a list"
   ]
  },
  {
   "cell_type": "code",
   "execution_count": null,
   "metadata": {},
   "outputs": [],
   "source": []
  },
  {
   "cell_type": "code",
   "execution_count": null,
   "metadata": {},
   "outputs": [],
   "source": []
  },
  {
   "cell_type": "code",
   "execution_count": null,
   "metadata": {},
   "outputs": [],
   "source": []
  }
 ],
 "metadata": {
  "kernelspec": {
   "display_name": "Python 3",
   "language": "python",
   "name": "python3"
  },
  "language_info": {
   "codemirror_mode": {
    "name": "ipython",
    "version": 3
   },
   "file_extension": ".py",
   "mimetype": "text/x-python",
   "name": "python",
   "nbconvert_exporter": "python",
   "pygments_lexer": "ipython3",
   "version": "3.6.5"
  }
 },
 "nbformat": 4,
 "nbformat_minor": 2
}
