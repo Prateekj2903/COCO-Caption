{
 "cells": [
  {
   "cell_type": "code",
   "execution_count": 1,
   "metadata": {},
   "outputs": [
    {
     "name": "stderr",
     "output_type": "stream",
     "text": [
      "C:\\Users\\windo\\Anaconda3\\lib\\site-packages\\h5py\\__init__.py:36: FutureWarning: Conversion of the second argument of issubdtype from `float` to `np.floating` is deprecated. In future, it will be treated as `np.float64 == np.dtype(float).type`.\n",
      "  from ._conv import register_converters as _register_converters\n",
      "Using TensorFlow backend.\n"
     ]
    }
   ],
   "source": [
    "from config import active_config\n",
    "\n",
    "from keras.applications.inception_resnet_v2 import InceptionResNetV2\n",
    "from keras.layers import Input, Dense, BatchNormalization, LSTM, GRU, Concatenate, RepeatVector, Embedding, Bidirectional, TimeDistributed\n",
    "from keras.models import Model"
   ]
  },
  {
   "cell_type": "code",
   "execution_count": 6,
   "metadata": {},
   "outputs": [],
   "source": [
    "class ImageCaptioningModel():\n",
    "    \n",
    "    def __init__(self, embedding_size=None, activation=None, regularizer=None, vocab_size=None, rnn_type=None, bidirectional_rnn=None, rnn_layers=None, rnn_output_size=None):\n",
    "        self.embedding_size = embedding_size or active_config.embedding_size\n",
    "        self.activation = activation or active_config.activation\n",
    "        self.regularizer = regularizer or active_config.regularizer\n",
    "        self.vocab_size = vocab_size or active_config.vocab_size\n",
    "        self.rnn_type = rnn_type or active_config.rnn_type\n",
    "        self.bidirectional_rnn = bidirectional_rnn or active_config.bidirectional_rnn\n",
    "        self.rnn_layers = rnn_layers or active_config.rnn_layers\n",
    "        self.rnn_output_size = rnn_output_size or active_config.rnn_output_size\n",
    "        self.build()\n",
    "        \n",
    "    def build(self):\n",
    "        \n",
    "        image_input, image_embedding = self.get_image_embedding()\n",
    "        word_input, word_embedding = self.get_word_embedding()\n",
    "        \n",
    "        seq_input = Concatenate(axis=1)(image_embedding, word_embedding)\n",
    "        seq_output = self.build_sequence_model(seq_input)\n",
    "        \n",
    "        model = Model(inputs=[image_input, word_input], outputs=seq_output)\n",
    "        \n",
    "        self.keras_model = model\n",
    "        \n",
    "        #TODO Build model\n",
    "        \n",
    "    def get_image_embedding(self):\n",
    "        #TODO Build model to calculate image embedding\n",
    "        image_model = InceptionResNetV2(include_top=False, weights='imagenet')\n",
    "        for layer in image_model.layers:\n",
    "            layer.trainable = False\n",
    "            \n",
    "        dense_output = Dense(units=self.embedding_size, activation=self.activation, kernel_regularizer = self.regularizer)(image_model.output)\n",
    "        \n",
    "        image_embedding = RepeatVector(1)(dense_output)\n",
    "        \n",
    "        image_input = image_mode.input\n",
    "        \n",
    "        return image_input, image_embedding\n",
    "        \n",
    "    def get_word_embedding(self):\n",
    "        #TODO Embed captions\n",
    "        input_sentence = Input(shape=[None])\n",
    "        \n",
    "        embedding = Embedding(input_dim=self.vocab_size, output_dim=self.embedding_size, embeddings_regularizer=self.regularizer)(input_sentence)\n",
    "        \n",
    "        return input_sentence, embedding\n",
    "        \n",
    "    def build_sequence_model(self, seq_input):\n",
    "        #TODO Build sequence model\n",
    "        RNN = LSTM if self.rnn_type=='lstm' else GRU\n",
    "        \n",
    "        def rnn_layer():\n",
    "            rnn = RNN(units=self.rnn_output_size)\n",
    "            \n",
    "            if self.bidirectional_rnn:\n",
    "                rnn = Bidirectional(rnn)\n",
    "            \n",
    "            return rnn\n",
    "        \n",
    "        prev_input = seq_input\n",
    "        for i in self.rnn_layers:\n",
    "            prev_input = BatchNormalization()(prev_input)\n",
    "            rnn_output = rnn_layer()(prev_input)\n",
    "            prev_input = rnn_output\n",
    "        time_distributed_dense_output = TimeDistributed(Dense(units=self.vocab_size))(rnn_output)\n",
    "        return time_distributed_dense_output"
   ]
  },
  {
   "cell_type": "code",
   "execution_count": 7,
   "metadata": {},
   "outputs": [
    {
     "ename": "ValueError",
     "evalue": "Input 0 is incompatible with layer repeat_vector_2: expected ndim=2, found ndim=4",
     "output_type": "error",
     "traceback": [
      "\u001b[1;31m---------------------------------------------------------------------------\u001b[0m",
      "\u001b[1;31mValueError\u001b[0m                                Traceback (most recent call last)",
      "\u001b[1;32m<ipython-input-7-b4096a4f5d99>\u001b[0m in \u001b[0;36m<module>\u001b[1;34m()\u001b[0m\n\u001b[1;32m----> 1\u001b[1;33m \u001b[0mmodel\u001b[0m \u001b[1;33m=\u001b[0m \u001b[0mImageCaptioningModel\u001b[0m\u001b[1;33m(\u001b[0m\u001b[1;33m)\u001b[0m\u001b[1;33m\u001b[0m\u001b[0m\n\u001b[0m",
      "\u001b[1;32m<ipython-input-6-70621a6061f9>\u001b[0m in \u001b[0;36m__init__\u001b[1;34m(self, embedding_size, activation, regularizer, vocab_size, rnn_type, bidirectional_rnn, rnn_layers, rnn_output_size)\u001b[0m\n\u001b[0;32m     10\u001b[0m         \u001b[0mself\u001b[0m\u001b[1;33m.\u001b[0m\u001b[0mrnn_layers\u001b[0m \u001b[1;33m=\u001b[0m \u001b[0mrnn_layers\u001b[0m \u001b[1;32mor\u001b[0m \u001b[0mactive_config\u001b[0m\u001b[1;33m.\u001b[0m\u001b[0mrnn_layers\u001b[0m\u001b[1;33m\u001b[0m\u001b[0m\n\u001b[0;32m     11\u001b[0m         \u001b[0mself\u001b[0m\u001b[1;33m.\u001b[0m\u001b[0mrnn_output_size\u001b[0m \u001b[1;33m=\u001b[0m \u001b[0mrnn_output_size\u001b[0m \u001b[1;32mor\u001b[0m \u001b[0mactive_config\u001b[0m\u001b[1;33m.\u001b[0m\u001b[0mrnn_output_size\u001b[0m\u001b[1;33m\u001b[0m\u001b[0m\n\u001b[1;32m---> 12\u001b[1;33m         \u001b[0mself\u001b[0m\u001b[1;33m.\u001b[0m\u001b[0mbuild\u001b[0m\u001b[1;33m(\u001b[0m\u001b[1;33m)\u001b[0m\u001b[1;33m\u001b[0m\u001b[0m\n\u001b[0m\u001b[0;32m     13\u001b[0m \u001b[1;33m\u001b[0m\u001b[0m\n\u001b[0;32m     14\u001b[0m     \u001b[1;32mdef\u001b[0m \u001b[0mbuild\u001b[0m\u001b[1;33m(\u001b[0m\u001b[0mself\u001b[0m\u001b[1;33m)\u001b[0m\u001b[1;33m:\u001b[0m\u001b[1;33m\u001b[0m\u001b[0m\n",
      "\u001b[1;32m<ipython-input-6-70621a6061f9>\u001b[0m in \u001b[0;36mbuild\u001b[1;34m(self)\u001b[0m\n\u001b[0;32m     14\u001b[0m     \u001b[1;32mdef\u001b[0m \u001b[0mbuild\u001b[0m\u001b[1;33m(\u001b[0m\u001b[0mself\u001b[0m\u001b[1;33m)\u001b[0m\u001b[1;33m:\u001b[0m\u001b[1;33m\u001b[0m\u001b[0m\n\u001b[0;32m     15\u001b[0m \u001b[1;33m\u001b[0m\u001b[0m\n\u001b[1;32m---> 16\u001b[1;33m         \u001b[0mimage_input\u001b[0m\u001b[1;33m,\u001b[0m \u001b[0mimage_embedding\u001b[0m \u001b[1;33m=\u001b[0m \u001b[0mself\u001b[0m\u001b[1;33m.\u001b[0m\u001b[0mget_image_embedding\u001b[0m\u001b[1;33m(\u001b[0m\u001b[1;33m)\u001b[0m\u001b[1;33m\u001b[0m\u001b[0m\n\u001b[0m\u001b[0;32m     17\u001b[0m         \u001b[0mword_input\u001b[0m\u001b[1;33m,\u001b[0m \u001b[0mword_embedding\u001b[0m \u001b[1;33m=\u001b[0m \u001b[0mself\u001b[0m\u001b[1;33m.\u001b[0m\u001b[0mget_word_embedding\u001b[0m\u001b[1;33m(\u001b[0m\u001b[1;33m)\u001b[0m\u001b[1;33m\u001b[0m\u001b[0m\n\u001b[0;32m     18\u001b[0m \u001b[1;33m\u001b[0m\u001b[0m\n",
      "\u001b[1;32m<ipython-input-6-70621a6061f9>\u001b[0m in \u001b[0;36mget_image_embedding\u001b[1;34m(self)\u001b[0m\n\u001b[0;32m     34\u001b[0m         \u001b[0mdense_output\u001b[0m \u001b[1;33m=\u001b[0m \u001b[0mDense\u001b[0m\u001b[1;33m(\u001b[0m\u001b[0munits\u001b[0m\u001b[1;33m=\u001b[0m\u001b[0mself\u001b[0m\u001b[1;33m.\u001b[0m\u001b[0membedding_size\u001b[0m\u001b[1;33m,\u001b[0m \u001b[0mactivation\u001b[0m\u001b[1;33m=\u001b[0m\u001b[0mself\u001b[0m\u001b[1;33m.\u001b[0m\u001b[0mactivation\u001b[0m\u001b[1;33m,\u001b[0m \u001b[0mkernel_regularizer\u001b[0m \u001b[1;33m=\u001b[0m \u001b[0mself\u001b[0m\u001b[1;33m.\u001b[0m\u001b[0mregularizer\u001b[0m\u001b[1;33m)\u001b[0m\u001b[1;33m(\u001b[0m\u001b[0mimage_model\u001b[0m\u001b[1;33m.\u001b[0m\u001b[0moutput\u001b[0m\u001b[1;33m)\u001b[0m\u001b[1;33m\u001b[0m\u001b[0m\n\u001b[0;32m     35\u001b[0m \u001b[1;33m\u001b[0m\u001b[0m\n\u001b[1;32m---> 36\u001b[1;33m         \u001b[0mimage_embedding\u001b[0m \u001b[1;33m=\u001b[0m \u001b[0mRepeatVector\u001b[0m\u001b[1;33m(\u001b[0m\u001b[1;36m1\u001b[0m\u001b[1;33m)\u001b[0m\u001b[1;33m(\u001b[0m\u001b[0mdense_output\u001b[0m\u001b[1;33m)\u001b[0m\u001b[1;33m\u001b[0m\u001b[0m\n\u001b[0m\u001b[0;32m     37\u001b[0m \u001b[1;33m\u001b[0m\u001b[0m\n\u001b[0;32m     38\u001b[0m         \u001b[0mimage_input\u001b[0m \u001b[1;33m=\u001b[0m \u001b[0mimage_mode\u001b[0m\u001b[1;33m.\u001b[0m\u001b[0minput\u001b[0m\u001b[1;33m\u001b[0m\u001b[0m\n",
      "\u001b[1;32m~\\Anaconda3\\lib\\site-packages\\keras\\engine\\base_layer.py\u001b[0m in \u001b[0;36m__call__\u001b[1;34m(self, inputs, **kwargs)\u001b[0m\n\u001b[0;32m    412\u001b[0m                 \u001b[1;31m# Raise exceptions in case the input is not compatible\u001b[0m\u001b[1;33m\u001b[0m\u001b[1;33m\u001b[0m\u001b[0m\n\u001b[0;32m    413\u001b[0m                 \u001b[1;31m# with the input_spec specified in the layer constructor.\u001b[0m\u001b[1;33m\u001b[0m\u001b[1;33m\u001b[0m\u001b[0m\n\u001b[1;32m--> 414\u001b[1;33m                 \u001b[0mself\u001b[0m\u001b[1;33m.\u001b[0m\u001b[0massert_input_compatibility\u001b[0m\u001b[1;33m(\u001b[0m\u001b[0minputs\u001b[0m\u001b[1;33m)\u001b[0m\u001b[1;33m\u001b[0m\u001b[0m\n\u001b[0m\u001b[0;32m    415\u001b[0m \u001b[1;33m\u001b[0m\u001b[0m\n\u001b[0;32m    416\u001b[0m                 \u001b[1;31m# Collect input shapes to build layer.\u001b[0m\u001b[1;33m\u001b[0m\u001b[1;33m\u001b[0m\u001b[0m\n",
      "\u001b[1;32m~\\Anaconda3\\lib\\site-packages\\keras\\engine\\base_layer.py\u001b[0m in \u001b[0;36massert_input_compatibility\u001b[1;34m(self, inputs)\u001b[0m\n\u001b[0;32m    309\u001b[0m                                      \u001b[0mself\u001b[0m\u001b[1;33m.\u001b[0m\u001b[0mname\u001b[0m \u001b[1;33m+\u001b[0m \u001b[1;34m': expected ndim='\u001b[0m \u001b[1;33m+\u001b[0m\u001b[1;33m\u001b[0m\u001b[0m\n\u001b[0;32m    310\u001b[0m                                      \u001b[0mstr\u001b[0m\u001b[1;33m(\u001b[0m\u001b[0mspec\u001b[0m\u001b[1;33m.\u001b[0m\u001b[0mndim\u001b[0m\u001b[1;33m)\u001b[0m \u001b[1;33m+\u001b[0m \u001b[1;34m', found ndim='\u001b[0m \u001b[1;33m+\u001b[0m\u001b[1;33m\u001b[0m\u001b[0m\n\u001b[1;32m--> 311\u001b[1;33m                                      str(K.ndim(x)))\n\u001b[0m\u001b[0;32m    312\u001b[0m             \u001b[1;32mif\u001b[0m \u001b[0mspec\u001b[0m\u001b[1;33m.\u001b[0m\u001b[0mmax_ndim\u001b[0m \u001b[1;32mis\u001b[0m \u001b[1;32mnot\u001b[0m \u001b[1;32mNone\u001b[0m\u001b[1;33m:\u001b[0m\u001b[1;33m\u001b[0m\u001b[0m\n\u001b[0;32m    313\u001b[0m                 \u001b[0mndim\u001b[0m \u001b[1;33m=\u001b[0m \u001b[0mK\u001b[0m\u001b[1;33m.\u001b[0m\u001b[0mndim\u001b[0m\u001b[1;33m(\u001b[0m\u001b[0mx\u001b[0m\u001b[1;33m)\u001b[0m\u001b[1;33m\u001b[0m\u001b[0m\n",
      "\u001b[1;31mValueError\u001b[0m: Input 0 is incompatible with layer repeat_vector_2: expected ndim=2, found ndim=4"
     ]
    }
   ],
   "source": [
    "model = ImageCaptioningModel()"
   ]
  },
  {
   "cell_type": "code",
   "execution_count": null,
   "metadata": {},
   "outputs": [],
   "source": []
  }
 ],
 "metadata": {
  "kernelspec": {
   "display_name": "Python 3",
   "language": "python",
   "name": "python3"
  },
  "language_info": {
   "codemirror_mode": {
    "name": "ipython",
    "version": 3
   },
   "file_extension": ".py",
   "mimetype": "text/x-python",
   "name": "python",
   "nbconvert_exporter": "python",
   "pygments_lexer": "ipython3",
   "version": "3.6.5"
  }
 },
 "nbformat": 4,
 "nbformat_minor": 2
}
