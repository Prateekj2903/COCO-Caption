{
 "cells": [
  {
   "cell_type": "code",
   "execution_count": 30,
   "metadata": {},
   "outputs": [],
   "source": [
    "import config\n",
    "\n",
    "from keras.applications import inception_resnet_v2\n",
    "from keras.layers import Input, Dense, BatchNormalization, LSTM, GRU, Concatenate, RepeatVector, Embedding, Bidirectional, TimeDistributed, Flatten\n",
    "from keras.models import Model\n",
    "import numpy as np"
   ]
  },
  {
   "cell_type": "code",
   "execution_count": 33,
   "metadata": {},
   "outputs": [],
   "source": [
    "class ImageCaptioningModel():\n",
    "    \n",
    "    def __init__(self, embedding_size=None, activation=None, regularizer=None, vocab_size=None, rnn_type=None, bidirectional_rnn=None, rnn_layers=None, rnn_output_size=None, word_vector_init=None, pretrained_embeddings=None):\n",
    "        self.active_config = config.Config()\n",
    "        self.embedding_size = embedding_size or self.active_config.embedding_size\n",
    "        self.activation = activation or self.active_config.activation\n",
    "        self.regularizer = regularizer or self.active_config.regularizer\n",
    "        self.vocab_size = vocab_size or self.active_config.vocab_size\n",
    "        self.rnn_type = rnn_type or self.active_config.rnn_type\n",
    "        self.bidirectional_rnn = bidirectional_rnn or self.active_config.bidirectional_rnn\n",
    "        self.rnn_layers = rnn_layers or self.active_config.rnn_layers\n",
    "        self.rnn_output_size = rnn_output_size or self.active_config.rnn_output_size\n",
    "        self.word_vector_init = word_vector_init or self.active_config.word_vector_init\n",
    "        self.use_pre_trained_word_embeddings = self.active_config.use_pre_trained_word_embeddings\n",
    "        self.pretrained_embeddings = pretrained_embeddings\n",
    "        self.build()\n",
    "        \n",
    "    def build(self, vocabulary=None):\n",
    "        \n",
    "        image_input, image_embedding = self.get_image_embedding()\n",
    "        word_input, word_embedding = self.get_word_embedding()\n",
    "        \n",
    "        seq_input = Concatenate(axis=1)(image_embedding, word_embedding)\n",
    "        seq_output = self.build_sequence_model(seq_input)\n",
    "        \n",
    "        model = Model(inputs=[image_input, word_input], outputs=seq_output)\n",
    "        \n",
    "        self.keras_model = model\n",
    "    \n",
    "    def get_image_embedding(self):\n",
    "        #TODO Build model to calculate image embedding\n",
    "        image_model = inception_resnet_v2.InceptionResNetV2(include_top=False, weights='imagenet', input_shape=self.active_config.image_input_shape)\n",
    "        for layer in image_model.layers:\n",
    "            layer.trainable = False\n",
    "            \n",
    "        flatten = Flatten()(image_model.output)\n",
    "        dense_output = Dense(units=self.embedding_size, activation=self.activation, kernel_regularizer = self.regularizer)(flatten)\n",
    "        image_embedding = RepeatVector(1)(dense_output)\n",
    "        image_input = image_model.input\n",
    "        \n",
    "        return image_input, image_embedding\n",
    "        \n",
    "    def get_word_embedding(self):        \n",
    "        input_sentence = Input(shape=[None])\n",
    "        \n",
    "        if self.use_pre_trained_word_embeddings:\n",
    "            embedding_layer = Embedding(input_dim=self.vocab_size+1, output_dim=self.embedding_size, trainable=False)\n",
    "            embedding_layer.build((None,))\n",
    "            embedding_layer.set_weights([self.pretrained_embeddings])\n",
    "        else:\n",
    "            embedding_layer = Embedding(input_dim=self.vocab_size+1, output_dim=self.embedding_size, embeddings_regularizer=self.regularizer)\n",
    "        \n",
    "        embedding = embedding_layer(input_sentence)\n",
    "        return input_sentence, embedding\n",
    "        \n",
    "    def build_sequence_model(self, seq_input):\n",
    "        #TODO Build sequence model\n",
    "        RNN = LSTM if self.rnn_type=='lstm' else GRU\n",
    "        \n",
    "        def rnn_layer():\n",
    "            rnn = RNN(units=self.rnn_output_size)\n",
    "            \n",
    "            if self.bidirectional_rnn:\n",
    "                rnn = Bidirectional(rnn)\n",
    "            \n",
    "            return rnn\n",
    "        \n",
    "        prev_input = seq_input\n",
    "        for i in self.rnn_layers:\n",
    "            prev_input = BatchNormalization()(prev_input)\n",
    "            rnn_output = rnn_layer()(prev_input)\n",
    "            prev_input = rnn_output\n",
    "        time_distributed_dense_output = TimeDistributed(Dense(units=self.vocab_size))(rnn_output)\n",
    "        return time_distributed_dense_output"
   ]
  },
  {
   "cell_type": "code",
   "execution_count": 34,
   "metadata": {
    "scrolled": false
   },
   "outputs": [
    {
     "ename": "AttributeError",
     "evalue": "'Config' object has no attribute 'use_pre_trained_word_embeddings'",
     "output_type": "error",
     "traceback": [
      "\u001b[1;31m---------------------------------------------------------------------------\u001b[0m",
      "\u001b[1;31mAttributeError\u001b[0m                            Traceback (most recent call last)",
      "\u001b[1;32m<ipython-input-34-d1df0a7da0b0>\u001b[0m in \u001b[0;36m<module>\u001b[1;34m()\u001b[0m\n\u001b[1;32m----> 1\u001b[1;33m \u001b[0mmodel\u001b[0m \u001b[1;33m=\u001b[0m \u001b[0mImageCaptioningModel\u001b[0m\u001b[1;33m(\u001b[0m\u001b[0mvocab_size\u001b[0m\u001b[1;33m=\u001b[0m\u001b[1;36m1000\u001b[0m\u001b[1;33m)\u001b[0m\u001b[1;33m\u001b[0m\u001b[0m\n\u001b[0m",
      "\u001b[1;32m<ipython-input-33-c167e46a1702>\u001b[0m in \u001b[0;36m__init__\u001b[1;34m(self, embedding_size, activation, regularizer, vocab_size, rnn_type, bidirectional_rnn, rnn_layers, rnn_output_size, word_vector_init, pretrained_embeddings)\u001b[0m\n\u001b[0;32m     12\u001b[0m         \u001b[0mself\u001b[0m\u001b[1;33m.\u001b[0m\u001b[0mrnn_output_size\u001b[0m \u001b[1;33m=\u001b[0m \u001b[0mrnn_output_size\u001b[0m \u001b[1;32mor\u001b[0m \u001b[0mself\u001b[0m\u001b[1;33m.\u001b[0m\u001b[0mactive_config\u001b[0m\u001b[1;33m.\u001b[0m\u001b[0mrnn_output_size\u001b[0m\u001b[1;33m\u001b[0m\u001b[0m\n\u001b[0;32m     13\u001b[0m         \u001b[0mself\u001b[0m\u001b[1;33m.\u001b[0m\u001b[0mword_vector_init\u001b[0m \u001b[1;33m=\u001b[0m \u001b[0mword_vector_init\u001b[0m \u001b[1;32mor\u001b[0m \u001b[0mself\u001b[0m\u001b[1;33m.\u001b[0m\u001b[0mactive_config\u001b[0m\u001b[1;33m.\u001b[0m\u001b[0mword_vector_init\u001b[0m\u001b[1;33m\u001b[0m\u001b[0m\n\u001b[1;32m---> 14\u001b[1;33m         \u001b[0mself\u001b[0m\u001b[1;33m.\u001b[0m\u001b[0muse_pre_trained_word_embeddings\u001b[0m \u001b[1;33m=\u001b[0m \u001b[0mself\u001b[0m\u001b[1;33m.\u001b[0m\u001b[0mactive_config\u001b[0m\u001b[1;33m.\u001b[0m\u001b[0muse_pre_trained_word_embeddings\u001b[0m\u001b[1;33m\u001b[0m\u001b[0m\n\u001b[0m\u001b[0;32m     15\u001b[0m         \u001b[0mself\u001b[0m\u001b[1;33m.\u001b[0m\u001b[0mpretrained_embeddings\u001b[0m \u001b[1;33m=\u001b[0m \u001b[0mpretrained_embeddings\u001b[0m\u001b[1;33m\u001b[0m\u001b[0m\n\u001b[0;32m     16\u001b[0m         \u001b[0mself\u001b[0m\u001b[1;33m.\u001b[0m\u001b[0mbuild\u001b[0m\u001b[1;33m(\u001b[0m\u001b[1;33m)\u001b[0m\u001b[1;33m\u001b[0m\u001b[0m\n",
      "\u001b[1;31mAttributeError\u001b[0m: 'Config' object has no attribute 'use_pre_trained_word_embeddings'"
     ]
    }
   ],
   "source": [
    "model = ImageCaptioningModel(vocab_size=1000)"
   ]
  },
  {
   "cell_type": "code",
   "execution_count": 23,
   "metadata": {},
   "outputs": [],
   "source": []
  },
  {
   "cell_type": "code",
   "execution_count": null,
   "metadata": {},
   "outputs": [],
   "source": []
  },
  {
   "cell_type": "code",
   "execution_count": null,
   "metadata": {},
   "outputs": [],
   "source": []
  }
 ],
 "metadata": {
  "kernelspec": {
   "display_name": "Python 3",
   "language": "python",
   "name": "python3"
  },
  "language_info": {
   "codemirror_mode": {
    "name": "ipython",
    "version": 3
   },
   "file_extension": ".py",
   "mimetype": "text/x-python",
   "name": "python",
   "nbconvert_exporter": "python",
   "pygments_lexer": "ipython3",
   "version": "3.6.5"
  }
 },
 "nbformat": 4,
 "nbformat_minor": 2
}
