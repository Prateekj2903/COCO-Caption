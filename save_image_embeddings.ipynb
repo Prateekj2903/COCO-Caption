{
 "cells": [
  {
   "cell_type": "code",
   "execution_count": 1,
   "metadata": {},
   "outputs": [
    {
     "name": "stderr",
     "output_type": "stream",
     "text": [
      "C:\\Users\\windo\\Anaconda3\\lib\\site-packages\\h5py\\__init__.py:36: FutureWarning: Conversion of the second argument of issubdtype from `float` to `np.floating` is deprecated. In future, it will be treated as `np.float64 == np.dtype(float).type`.\n",
      "  from ._conv import register_converters as _register_converters\n",
      "Using TensorFlow backend.\n"
     ]
    }
   ],
   "source": [
    "from keras.applications import inception_resnet_v2\n",
    "from keras.preprocessing.image import ImageDataGenerator, img_to_array, load_img\n",
    "\n",
    "import datasets"
   ]
  },
  {
   "cell_type": "code",
   "execution_count": 2,
   "metadata": {},
   "outputs": [],
   "source": [
    "image_model = inception_resnet_v2.InceptionResNetV2(include_top=False, weights='imagenet', input_shape=(299,299,3))"
   ]
  },
  {
   "cell_type": "code",
   "execution_count": 3,
   "metadata": {},
   "outputs": [
    {
     "name": "stdout",
     "output_type": "stream",
     "text": [
      "Loading Training Data\n",
      "loading annotations into memory...\n",
      "Done (t=26.27s)\n",
      "creating index...\n",
      "index created!\n",
      "loading annotations into memory...\n",
      "Done (t=2.64s)\n",
      "creating index...\n",
      "index created!\n",
      "\n",
      "Loading Validation Data\n",
      "loading annotations into memory...\n",
      "Done (t=1.26s)\n",
      "creating index...\n",
      "index created!\n",
      "loading annotations into memory...\n",
      "Done (t=0.11s)\n",
      "creating index...\n",
      "index created!\n"
     ]
    }
   ],
   "source": [
    "coco = datasets.COCODateset(False)"
   ]
  },
  {
   "cell_type": "code",
   "execution_count": null,
   "metadata": {},
   "outputs": [],
   "source": [
    "training_images_dir = dataset.training_images_dir\n",
    "validation_images_dir = dataset.validation_images_dir"
   ]
  },
  {
   "cell_type": "code",
   "execution_count": null,
   "metadata": {},
   "outputs": [],
   "source": [
    "def training_set_generator():\n",
    "    for batch in batch_generator(dataset.training_set, is_training_set=True):\n",
    "        yield batch\n",
    "\n",
    "\n",
    "def batch_generator(dataset, is_training_set):\n",
    "    curr_data_batch = []\n",
    "    while True:\n",
    "        idxs = np.random.randint(low=0, high=len(dataset), size=self.batch_size)\n",
    "        curr_data_batch = dataset[idxs]\n",
    "        yield preprocess_batch(curr_data_batch, is_training_set)\n",
    "\n",
    "def preprocess_batch(data_batch, is_training_set):\n",
    "    imgs_path = []\n",
    "    captions = []\n",
    "\n",
    "    img_dir = training_images_dir if is_training_set else validation_images_dir\n",
    "\n",
    "    for data in data_batch:\n",
    "        imgs_path.append(os.path.join(img_dir, data.filename))\n",
    "        captions.append(data.caption)\n",
    "\n",
    "    img_batch = image_preprocessor.preprocess_images(imgs_path, is_training_set)\n",
    "    return X, y"
   ]
  }
 ],
 "metadata": {
  "kernelspec": {
   "display_name": "Python 3",
   "language": "python",
   "name": "python3"
  },
  "language_info": {
   "codemirror_mode": {
    "name": "ipython",
    "version": 3
   },
   "file_extension": ".py",
   "mimetype": "text/x-python",
   "name": "python",
   "nbconvert_exporter": "python",
   "pygments_lexer": "ipython3",
   "version": "3.6.5"
  }
 },
 "nbformat": 4,
 "nbformat_minor": 2
}
