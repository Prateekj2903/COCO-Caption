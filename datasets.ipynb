{
 "cells": [
  {
   "cell_type": "code",
   "execution_count": 8,
   "metadata": {},
   "outputs": [],
   "source": [
    "from pycocotools.coco import COCO\n",
    "import os\n",
    "from collections import defaultdict"
   ]
  },
  {
   "cell_type": "code",
   "execution_count": 29,
   "metadata": {},
   "outputs": [],
   "source": [
    "# TODO build function to create dictionary of all captions for an image\n",
    "class COCODateset(object):\n",
    "    #Load Data from disk\n",
    "    DATASET_NAME = 'COCO'\n",
    "    \n",
    "    DATASET_DIR = 'D:\\\\Datasets\\\\COCO'\n",
    "    \n",
    "    ANNOTAIONS_DIR_NAME = 'annotations'\n",
    "    COCO_TRAIN_ANNOTATION_FILENAME = 'instances_train2017.json'\n",
    "    COCO_TRAIN_CAPTION_ANNOTAION_FILENAME = 'captions_train2017.json'\n",
    "    \n",
    "    def __init__(self, best_caption=False):\n",
    "        self.build_data()\n",
    "        self.training_set_size = len(self.training_set)\n",
    "#         self.validation_set_size = len(self.validation_set)\n",
    "#         self.test_set_size = len(self.test_set)\n",
    "    \n",
    "    def load_annotations(self, coco_ann_filepath, coco_caption_ann_filepath):\n",
    "        coco_ann = COCO(coco_ann_filepath)\n",
    "        coco_caption_ann = COCO(coco_caption_ann_filepath)\n",
    "        return coco_ann, coco_caption_ann\n",
    "        \n",
    "    def load_set(self, coco_ann_filepath, coco_caption_ann_filepath):\n",
    "        \n",
    "        #TODO if best_caption then save ony one caption per image\n",
    "        coco_ann, coco_caption_ann = self.load_annotations(coco_ann_filepath, coco_caption_ann_filepath)\n",
    "        img_ids = coco_ann.getImgIds()\n",
    "        annIds = coco_caption_ann.getAnnIds(img_ids)\n",
    "        annotations = coco_caption_ann.loadAnns(annIds)\n",
    "        dataset = defaultdict(list)\n",
    "        for ann in annotations:\n",
    "            dataset[ann['image_id']].append(ann['caption'])\n",
    "        return dataset\n",
    "    def build_data(self):\n",
    "        self.training_set = self.load_set(os.path.join(self.DATASET_DIR, self.ANNOTAIONS_DIR_NAME, self.COCO_TRAIN_ANNOTATION_FILENAME),\n",
    "                                os.path.join(self.DATASET_DIR, self.ANNOTAIONS_DIR_NAME, self.COCO_TRAIN_CAPTION_ANNOTAION_FILENAME))\n",
    "#         self.validation_set = \n",
    "#         self.test_set = "
   ]
  },
  {
   "cell_type": "code",
   "execution_count": 30,
   "metadata": {},
   "outputs": [
    {
     "name": "stdout",
     "output_type": "stream",
     "text": [
      "loading annotations into memory...\n",
      "Done (t=23.21s)\n",
      "creating index...\n",
      "index created!\n",
      "loading annotations into memory...\n",
      "Done (t=1.31s)\n",
      "creating index...\n",
      "index created!\n"
     ]
    }
   ],
   "source": [
    "c = COCODateset()"
   ]
  },
  {
   "cell_type": "code",
   "execution_count": null,
   "metadata": {},
   "outputs": [],
   "source": []
  },
  {
   "cell_type": "code",
   "execution_count": null,
   "metadata": {},
   "outputs": [],
   "source": []
  },
  {
   "cell_type": "code",
   "execution_count": null,
   "metadata": {},
   "outputs": [],
   "source": []
  },
  {
   "cell_type": "code",
   "execution_count": null,
   "metadata": {},
   "outputs": [],
   "source": []
  },
  {
   "cell_type": "code",
   "execution_count": null,
   "metadata": {},
   "outputs": [],
   "source": []
  }
 ],
 "metadata": {
  "kernelspec": {
   "display_name": "Python 3",
   "language": "python",
   "name": "python3"
  },
  "language_info": {
   "codemirror_mode": {
    "name": "ipython",
    "version": 3
   },
   "file_extension": ".py",
   "mimetype": "text/x-python",
   "name": "python",
   "nbconvert_exporter": "python",
   "pygments_lexer": "ipython3",
   "version": "3.6.5"
  }
 },
 "nbformat": 4,
 "nbformat_minor": 2
}
