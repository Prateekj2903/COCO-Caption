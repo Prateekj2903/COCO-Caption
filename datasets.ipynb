{
 "cells": [
  {
   "cell_type": "code",
   "execution_count": 5,
   "metadata": {},
   "outputs": [],
   "source": [
    "from pycocotools.coco import COCO\n",
    "import os\n",
    "import numpy as np"
   ]
  },
  {
   "cell_type": "code",
   "execution_count": 6,
   "metadata": {},
   "outputs": [],
   "source": [
    "# TODO build function to create dictionary of all captions for an image\n",
    "class Image():\n",
    "    def __init__(self, image_id, caption, filename):\n",
    "        self.image_id = image_id\n",
    "        self.caption = caption\n",
    "        self.filename = filename\n",
    "\n",
    "class COCODateset(object):\n",
    "    #Load Data from disk\n",
    "    DATASET_NAME = 'COCO'\n",
    "    DATASET_DIR = 'D:\\\\Datasets\\\\COCO'\n",
    "    ANNOTAIONS_DIR_NAME = 'annotations'\n",
    "    TRAINING_RESULTS_DIR = 'D:\\\\img_captioning\\\\training_results'\n",
    "    \n",
    "    COCO_TRAIN_ANNOTATION_FILENAME = 'instances_train2017.json'\n",
    "    COCO_TRAIN_CAPTION_ANNOTAION_FILENAME = 'captions_train2017.json'\n",
    "    \n",
    "    \n",
    "    @property\n",
    "    def dataset_dir(self):\n",
    "        return self.DATASET_DIR\n",
    "    \n",
    "    @property\n",
    "    def training_results_dir(self):\n",
    "        return self.TRAINING_RESULTS_DIR\n",
    "    \n",
    "    @property\n",
    "    def training_images_dir(self):\n",
    "        return os.path.join(self.dataset_dir, 'train2017')\n",
    "    \n",
    "    @property\n",
    "    def training_set_size(self):\n",
    "        return len(self.training_set)\n",
    "    @property\n",
    "    def training_all_captions_size(self):\n",
    "        return len(self.training_all_captions)\n",
    "    \n",
    "    def __init__(self, single_caption=False):\n",
    "        self.single_caption = single_caption\n",
    "        self.build_data()\n",
    "#         self.training_set_size = len(self.training_set)\n",
    "        \n",
    "#         self.validation_set_size = len(self.validation_set)\n",
    "#         self.test_set_size = len(self.test_set)\n",
    "    \n",
    "    def load_annotations(self, coco_ann_filepath, coco_caption_ann_filepath):\n",
    "        coco_ann = COCO(coco_ann_filepath)\n",
    "        coco_caption_ann = COCO(coco_caption_ann_filepath)\n",
    "        return coco_ann, coco_caption_ann\n",
    "        \n",
    "    def load_set(self, coco_ann_filepath, coco_caption_ann_filepath):\n",
    "        \n",
    "        #TODO if best_caption then save ony one caption per image\n",
    "        coco_ann, coco_caption_ann = self.load_annotations(coco_ann_filepath, coco_caption_ann_filepath)\n",
    "        img_ids = coco_ann.getImgIds()\n",
    "        annIds = coco_caption_ann.getAnnIds(img_ids)\n",
    "        annotations = coco_caption_ann.loadAnns(annIds)\n",
    "#         dataset = defaultdict(list)\n",
    "        is_image_id_done = dict()\n",
    "        dataset = []\n",
    "        all_captions = []\n",
    "        for ann in annotations:\n",
    "            image_id = ann['image_id']\n",
    "            image_caption = ann['caption']\n",
    "            image_filename = coco_ann.loadImgs([image_id])[0]['file_name']\n",
    "            all_captions.append(ann['caption'])\n",
    "            if self.single_caption and image_id in is_image_id_done.keys():\n",
    "                continue\n",
    "            else:\n",
    "                dataset.append(Image(image_id, image_caption, image_filename))\n",
    "                is_image_id_done[image_id] = True\n",
    "        return np.array(dataset), all_captions\n",
    "    def build_data(self):\n",
    "        self.training_set, self.training_all_captions = self.load_set(os.path.join(self.DATASET_DIR, self.ANNOTAIONS_DIR_NAME, self.COCO_TRAIN_ANNOTATION_FILENAME),\n",
    "                                os.path.join(self.DATASET_DIR, self.ANNOTAIONS_DIR_NAME, self.COCO_TRAIN_CAPTION_ANNOTAION_FILENAME))\n",
    "#         self.validation_set = \n",
    "#         self.test_set = "
   ]
  },
  {
   "cell_type": "code",
   "execution_count": 12,
   "metadata": {},
   "outputs": [],
   "source": [
    "# c = COCODateset(single_caption=True)"
   ]
  },
  {
   "cell_type": "code",
   "execution_count": 13,
   "metadata": {},
   "outputs": [],
   "source": [
    "# len(c.training_set), len(c.training_all_captions)"
   ]
  },
  {
   "cell_type": "code",
   "execution_count": null,
   "metadata": {},
   "outputs": [],
   "source": []
  },
  {
   "cell_type": "code",
   "execution_count": 14,
   "metadata": {},
   "outputs": [],
   "source": [
    "# c.training_set[0].image_id, c.training_set[0].caption, c.training_set[0].filename"
   ]
  },
  {
   "cell_type": "code",
   "execution_count": 15,
   "metadata": {},
   "outputs": [],
   "source": [
    "# c.training_set[1].image_id, c.training_set[1].caption, c.training_set[1].filename"
   ]
  },
  {
   "cell_type": "code",
   "execution_count": null,
   "metadata": {},
   "outputs": [],
   "source": []
  },
  {
   "cell_type": "code",
   "execution_count": null,
   "metadata": {},
   "outputs": [],
   "source": []
  },
  {
   "cell_type": "code",
   "execution_count": null,
   "metadata": {},
   "outputs": [],
   "source": []
  },
  {
   "cell_type": "code",
   "execution_count": null,
   "metadata": {},
   "outputs": [],
   "source": []
  },
  {
   "cell_type": "code",
   "execution_count": null,
   "metadata": {},
   "outputs": [],
   "source": []
  },
  {
   "cell_type": "code",
   "execution_count": null,
   "metadata": {},
   "outputs": [],
   "source": []
  },
  {
   "cell_type": "code",
   "execution_count": null,
   "metadata": {},
   "outputs": [],
   "source": []
  }
 ],
 "metadata": {
  "kernelspec": {
   "display_name": "Python 3",
   "language": "python",
   "name": "python3"
  },
  "language_info": {
   "codemirror_mode": {
    "name": "ipython",
    "version": 3
   },
   "file_extension": ".py",
   "mimetype": "text/x-python",
   "name": "python",
   "nbconvert_exporter": "python",
   "pygments_lexer": "ipython3",
   "version": "3.6.5"
  }
 },
 "nbformat": 4,
 "nbformat_minor": 2
}
