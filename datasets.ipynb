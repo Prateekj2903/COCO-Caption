{
 "cells": [
  {
   "cell_type": "code",
   "execution_count": 39,
   "metadata": {},
   "outputs": [],
   "source": [
    "from pycocotools.coco import COCO\n",
    "import os"
   ]
  },
  {
   "cell_type": "code",
   "execution_count": 54,
   "metadata": {},
   "outputs": [],
   "source": [
    "class COCODateset(object):\n",
    "    #Load Data from disk\n",
    "    DATASET_NAME = 'COCO'\n",
    "    \n",
    "    DATASET_DIR = 'D:\\\\Datasets\\\\COCO'\n",
    "    \n",
    "    ANNOTAIONS_DIR_NAME = 'annotations'\n",
    "    COCO_TRAIN_ANNOTATION_FILENAME = 'instances_train2017.json'\n",
    "    COCO_TRAIN_CAPTION_ANNOTAION_FILENAME = 'captions_train2017.json'\n",
    "    \n",
    "    def __init__(self):\n",
    "#         self.load_coco_annotation()\n",
    "        self.build_data()\n",
    "    \n",
    "    def load_annotations(self, coco_ann_filepath, coco_caption_ann_filepath):\n",
    "        coco_ann = COCO(coco_ann_filepath)\n",
    "        coco_caption_ann = COCO(coco_caption_ann_filepath)\n",
    "        return coco_ann, coco_caption_ann\n",
    "        \n",
    "#     def build_caption_dictionary(self):\n",
    "#         print(self.fun)\n",
    "    \n",
    "    def load_set(self, coco_ann_filepath, coco_caption_ann_filepath):\n",
    "        coco_ann, coco_caption_ann = self.load_annotations(coco_ann_filepath, coco_caption_ann_filepath)\n",
    "        img_ids = coco_ann.getImgIds()\n",
    "        img_anns = coco_ann.loadImgs(img_ids)\n",
    "        dataset = []\n",
    "        for img_ann in img_anns:\n",
    "            img_filename = img_ann['file_name']\n",
    "            ann_Ids = coco_caption_ann.getAnnIds(img_ann['id'])\n",
    "            anns = coco_caption_ann.loadAnns(ann_Ids)\n",
    "            print(anns)\n",
    "            break\n",
    "         \n",
    "    def build_data(self):\n",
    "        self.training_set = self.load_set(os.path.join(self.DATASET_DIR, self.ANNOTAIONS_DIR_NAME, self.COCO_TRAIN_ANNOTATION_FILENAME),\n",
    "                                os.path.join(self.DATASET_DIR, self.ANNOTAIONS_DIR_NAME, self.COCO_TRAIN_CAPTION_ANNOTAION_FILENAME))\n",
    "#         self.validation_set = \n",
    "#         self.test_set = "
   ]
  },
  {
   "cell_type": "code",
   "execution_count": 55,
   "metadata": {},
   "outputs": [
    {
     "name": "stdout",
     "output_type": "stream",
     "text": [
      "loading annotations into memory...\n",
      "Done (t=26.38s)\n",
      "creating index...\n",
      "index created!\n",
      "loading annotations into memory...\n",
      "Done (t=1.30s)\n",
      "creating index...\n",
      "index created!\n",
      "[{'image_id': 391895, 'id': 770337, 'caption': 'A man with a red helmet on a small moped on a dirt road. '}, {'image_id': 391895, 'id': 771687, 'caption': 'Man riding a motor bike on a dirt road on the countryside.'}, {'image_id': 391895, 'id': 772707, 'caption': 'A man riding on the back of a motorcycle.'}, {'image_id': 391895, 'id': 776154, 'caption': 'A dirt path with a young person on a motor bike rests to the foreground of a verdant area with a bridge and a background of cloud-wreathed mountains. '}, {'image_id': 391895, 'id': 781998, 'caption': 'A man in a red shirt and a red hat is on a motorcycle on a hill side.'}]\n"
     ]
    }
   ],
   "source": [
    "c = COCODateset()"
   ]
  },
  {
   "cell_type": "code",
   "execution_count": null,
   "metadata": {},
   "outputs": [],
   "source": []
  }
 ],
 "metadata": {
  "kernelspec": {
   "display_name": "Python 3",
   "language": "python",
   "name": "python3"
  },
  "language_info": {
   "codemirror_mode": {
    "name": "ipython",
    "version": 3
   },
   "file_extension": ".py",
   "mimetype": "text/x-python",
   "name": "python",
   "nbconvert_exporter": "python",
   "pygments_lexer": "ipython3",
   "version": "3.6.5"
  }
 },
 "nbformat": 4,
 "nbformat_minor": 2
}
